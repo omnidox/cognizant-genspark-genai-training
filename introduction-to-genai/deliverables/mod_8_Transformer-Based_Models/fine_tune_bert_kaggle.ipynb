{
 "cells": [
  {
   "cell_type": "markdown",
   "id": "c62d92e9",
   "metadata": {},
   "source": [
    "# **Fine-Tuning BERT with Hugging Face**\n",
    "### **Kaggle Notebook**\n",
    "Author: *Rafael Hidalgo*  \n",
    "Date: *03/02/2025*  \n",
    "\n",
    "## **1. Introduction**\n",
    "This notebook demonstrates how to fine-tune a BERT model for sentiment analysis using the IMDb dataset. We will use Hugging Face's `transformers` and `datasets` libraries to:\n",
    "- Preprocess and tokenize the dataset\n",
    "- Train a BERT model for text classification\n",
    "- Debug and optimize training performance\n",
    "- Evaluate the fine-tuned model using key metrics\n",
    "- Explore potential real-world applications\n"
   ]
  },
  {
   "cell_type": "code",
   "execution_count": null,
   "id": "6767b446",
   "metadata": {},
   "outputs": [],
   "source": [
    "!pip install transformers datasets torch"
   ]
  },
  {
   "cell_type": "code",
   "execution_count": null,
   "id": "0c705c40",
   "metadata": {},
   "outputs": [],
   "source": [
    "# Import necessary libraries\n",
    "from transformers import BertTokenizer, BertForSequenceClassification, Trainer, TrainingArguments\n",
    "from datasets import load_dataset\n",
    "import torch\n",
    "import numpy as np\n",
    "from sklearn.metrics import accuracy_score, f1_score"
   ]
  },
  {
   "cell_type": "markdown",
   "id": "bf161968",
   "metadata": {},
   "source": [
    "## **3. Load and Prepare the IMDb Dataset**"
   ]
  },
  {
   "cell_type": "code",
   "execution_count": null,
   "id": "05d6e38d",
   "metadata": {},
   "outputs": [],
   "source": [
    "# Load dataset\n",
    "dataset = load_dataset('imdb')\n",
    "\n",
    "# Load tokenizer\n",
    "tokenizer = BertTokenizer.from_pretrained('bert-base-uncased')\n",
    "\n",
    "# Tokenize the data\n",
    "def tokenize_function(examples):\n",
    "    return tokenizer(examples['text'], padding=\"max_length\", truncation=True, max_length=128)\n",
    "\n",
    "# Apply tokenization\n",
    "tokenized_datasets = dataset.map(tokenize_function, batched=True)\n",
    "\n",
    "# Rename the label column\n",
    "tokenized_datasets = tokenized_datasets.rename_column(\"label\", \"labels\")\n",
    "\n",
    "# Convert dataset to PyTorch format\n",
    "tokenized_datasets.set_format(\"torch\", columns=[\"input_ids\", \"attention_mask\", \"labels\"])\n",
    "\n",
    "# Subset the dataset for quick training\n",
    "train_dataset = tokenized_datasets[\"train\"].shuffle(seed=42).select(range(2000))\n",
    "test_dataset = tokenized_datasets[\"test\"].shuffle(seed=42).select(range(500))\n"
   ]
  },
  {
   "cell_type": "markdown",
   "id": "0a29f8ee",
   "metadata": {},
   "source": [
    "## **4. Load Pre-Trained BERT Model**"
   ]
  },
  {
   "cell_type": "code",
   "execution_count": null,
   "id": "d2bf0d2a",
   "metadata": {},
   "outputs": [],
   "source": [
    "# Load pre-trained BERT model\n",
    "model = BertForSequenceClassification.from_pretrained('bert-base-uncased', num_labels=2)"
   ]
  },
  {
   "cell_type": "markdown",
   "id": "08971716",
   "metadata": {},
   "source": [
    "## **5. Define Training Arguments**"
   ]
  },
  {
   "cell_type": "code",
   "execution_count": null,
   "id": "f8c2b7fd",
   "metadata": {},
   "outputs": [],
   "source": [
    "training_args = TrainingArguments(\n",
    "    output_dir=\"./results\",\n",
    "    evaluation_strategy=\"epoch\",\n",
    "    learning_rate=2e-5,\n",
    "    per_device_train_batch_size=16,\n",
    "    per_device_eval_batch_size=16,\n",
    "    num_train_epochs=3,\n",
    "    weight_decay=0.01,\n",
    "    logging_dir='./logs',\n",
    "    logging_steps=10,\n",
    "    save_steps=10,\n",
    ")"
   ]
  },
  {
   "cell_type": "markdown",
   "id": "6af2f2d1",
   "metadata": {},
   "source": [
    "## **6. Define Trainer and Train the Model**"
   ]
  },
  {
   "cell_type": "code",
   "execution_count": null,
   "id": "7b67af81",
   "metadata": {},
   "outputs": [],
   "source": [
    "trainer = Trainer(\n",
    "    model=model,\n",
    "    args=training_args,\n",
    "    train_dataset=train_dataset,\n",
    "    eval_dataset=test_dataset,\n",
    ")\n",
    "\n",
    "# Train the model\n",
    "trainer.train()"
   ]
  },
  {
   "cell_type": "markdown",
   "id": "f8c221cd",
   "metadata": {},
   "source": [
    "## **7. Debugging Issues During Training**"
   ]
  },
  {
   "cell_type": "markdown",
   "id": "08542d95",
   "metadata": {},
   "source": [
    "### **Possible Issues & Solutions**\n",
    "- **Overfitting**: Reduce epochs or increase dropout.\n",
    "- **Underfitting**: Increase training data or adjust learning rate.\n",
    "- **Long training time**: Use `distilbert` instead of `bert-base-uncased` for a smaller, faster model.\n",
    "\n",
    "To experiment, try:\n",
    "```python\n",
    "training_args.num_train_epochs = 5  # Increase epochs if underfitting\n",
    "training_args.per_device_train_batch_size = 8  # Reduce batch size if memory issue\n",
    "```\n"
   ]
  },
  {
   "cell_type": "markdown",
   "id": "3ea0fa27",
   "metadata": {},
   "source": [
    "## **8. Evaluate Model Performance**"
   ]
  },
  {
   "cell_type": "code",
   "execution_count": null,
   "id": "110835ca",
   "metadata": {},
   "outputs": [],
   "source": [
    "# Define compute metrics function\n",
    "def compute_metrics(pred):\n",
    "    predictions, labels = pred\n",
    "    predictions = np.argmax(predictions, axis=1)\n",
    "    acc = accuracy_score(labels, predictions)\n",
    "    f1 = f1_score(labels, predictions)\n",
    "    return {\"accuracy\": acc, \"f1_score\": f1}\n",
    "\n",
    "# Evaluate the model\n",
    "eval_result = trainer.evaluate()\n",
    "print(f\"Evaluation results: {eval_result}\")"
   ]
  },
  {
   "cell_type": "markdown",
   "id": "cc6cf24c",
   "metadata": {},
   "source": [
    "## **9. Apply Model to Real-World Task**"
   ]
  },
  {
   "cell_type": "code",
   "execution_count": null,
   "id": "cef0b837",
   "metadata": {},
   "outputs": [],
   "source": [
    "# Example text inputs\n",
    "texts = [\"This movie was fantastic! I loved every moment.\", \n",
    "         \"The film was terrible. I regret watching it.\"]\n",
    "\n",
    "# Tokenize inputs\n",
    "inputs = tokenizer(texts, padding=\"max_length\", truncation=True, max_length=128, return_tensors=\"pt\")\n",
    "\n",
    "# Make predictions\n",
    "with torch.no_grad():\n",
    "    outputs = model(**inputs)\n",
    "    predictions = torch.argmax(outputs.logits, dim=-1)\n",
    "\n",
    "# Print results\n",
    "for text, pred in zip(texts, predictions):\n",
    "    label = \"Positive\" if pred == 1 else \"Negative\"\n",
    "    print(f\"Review: {text} \n",
    "Predicted Sentiment: {label}\n",
    "\")"
   ]
  },
  {
   "cell_type": "markdown",
   "id": "330728ef",
   "metadata": {},
   "source": [
    "## **10. Conclusion**"
   ]
  },
  {
   "cell_type": "markdown",
   "id": "4bb7e41e",
   "metadata": {},
   "source": [
    "In this notebook, we:\n",
    "- Fine-tuned `bert-base-uncased` on the IMDb dataset\n",
    "- Addressed common debugging issues\n",
    "- Evaluated the model using accuracy and F1-score\n",
    "- Applied the model to classify unseen text\n",
    "\n",
    "### **Next Steps:**\n",
    "- Try different datasets (e.g., SQuAD for question answering)\n",
    "- Experiment with hyperparameters for better accuracy\n",
    "- Deploy the model as an API for real-world applications\n",
    "\n",
    "**Thank you for exploring BERT with me! 🚀**\n"
   ]
  }
 ],
 "metadata": {
  "kaggle": {
   "accelerator": "nvidiaTeslaT4",
   "dataSources": [],
   "dockerImageVersionId": 30919,
   "isGpuEnabled": true,
   "isInternetEnabled": true,
   "language": "python",
   "sourceType": "notebook"
  },
  "kernelspec": {
   "display_name": "Python 3",
   "language": "python",
   "name": "python3"
  },
  "language_info": {
   "codemirror_mode": {
    "name": "ipython",
    "version": 3
   },
   "file_extension": ".py",
   "mimetype": "text/x-python",
   "name": "python",
   "nbconvert_exporter": "python",
   "pygments_lexer": "ipython3",
   "version": "3.10.12"
  }
 },
 "nbformat": 4,
 "nbformat_minor": 5
}
