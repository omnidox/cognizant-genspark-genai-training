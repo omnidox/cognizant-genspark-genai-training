{
 "cells": [
  {
   "cell_type": "markdown",
   "id": "33aea9cd",
   "metadata": {},
   "source": [
    "# **Fine-Tuning BERT with Hugging Face**\n",
    "This notebook fine-tunes a pre-trained BERT model on sentiment analysis using the IMDb dataset.\n",
    "It includes training, debugging, evaluation, and a real-world application.\n",
    "---\n",
    "**Enable GPU before running the notebook!**"
   ]
  },
  {
   "cell_type": "code",
   "execution_count": null,
   "id": "a49a71b6",
   "metadata": {},
   "outputs": [],
   "source": [
    "import torch\n",
    "device = \"cuda\" if torch.cuda.is_available() else \"cpu\"\n",
    "print(f\"Using device: {device}\")\n",
    "model.to(device)\n"
   ]
  },
  {
   "cell_type": "code",
   "execution_count": null,
   "id": "6cf94e41",
   "metadata": {},
   "outputs": [],
   "source": [
    "!pip install transformers datasets accelerate huggingface_hub"
   ]
  },
  {
   "cell_type": "markdown",
   "id": "37627dc9",
   "metadata": {},
   "source": [
    "## **1️⃣ Load Dataset**\n",
    "We use the IMDb dataset for sentiment analysis."
   ]
  },
  {
   "cell_type": "code",
   "execution_count": null,
   "id": "4fe7a3a8",
   "metadata": {},
   "outputs": [],
   "source": [
    "\n",
    "from datasets import load_dataset\n",
    "\n",
    "# Load IMDb dataset\n",
    "dataset = load_dataset(\"imdb\")\n",
    "dataset"
   ]
  },
  {
   "cell_type": "markdown",
   "id": "4ca21aaa",
   "metadata": {},
   "source": [
    "## **2️⃣ Tokenization**\n",
    "We tokenize the text using BERT's tokenizer."
   ]
  },
  {
   "cell_type": "code",
   "execution_count": null,
   "id": "c94844d2",
   "metadata": {},
   "outputs": [],
   "source": [
    "\n",
    "from transformers import AutoTokenizer\n",
    "\n",
    "# Load BERT tokenizer\n",
    "tokenizer = AutoTokenizer.from_pretrained(\"bert-base-uncased\")\n",
    "\n",
    "# Tokenization function\n",
    "def tokenize_function(example):\n",
    "    return tokenizer(example[\"text\"], padding=\"max_length\", truncation=True)\n",
    "\n",
    "# Tokenize dataset\n",
    "tokenized_datasets = dataset.map(tokenize_function, batched=True)\n",
    "tokenized_datasets"
   ]
  },
  {
   "cell_type": "markdown",
   "id": "5e58f426",
   "metadata": {},
   "source": [
    "## **3️⃣ Prepare Data for Training**\n",
    "Convert datasets into PyTorch format and use a data collator."
   ]
  },
  {
   "cell_type": "code",
   "execution_count": null,
   "id": "464fb588",
   "metadata": {},
   "outputs": [],
   "source": [
    "\n",
    "import torch\n",
    "from transformers import DataCollatorWithPadding\n",
    "\n",
    "# Remove unnecessary columns\n",
    "tokenized_datasets = tokenized_datasets.remove_columns([\"text\"])\n",
    "tokenized_datasets = tokenized_datasets.rename_column(\"label\", \"labels\")\n",
    "tokenized_datasets.set_format(\"torch\")\n",
    "\n",
    "# Data collator for dynamic padding\n",
    "data_collator = DataCollatorWithPadding(tokenizer=tokenizer)\n"
   ]
  },
  {
   "cell_type": "markdown",
   "id": "afdbedb1",
   "metadata": {},
   "source": [
    "## **4️⃣ Load Pre-Trained BERT Model**\n",
    "We use `bert-base-uncased` for sentiment classification."
   ]
  },
  {
   "cell_type": "code",
   "execution_count": null,
   "id": "0a601a61",
   "metadata": {},
   "outputs": [],
   "source": [
    "\n",
    "from transformers import AutoModelForSequenceClassification\n",
    "\n",
    "# Load pre-trained BERT model for sentiment analysis (2 classes: positive/negative)\n",
    "model = AutoModelForSequenceClassification.from_pretrained(\"bert-base-uncased\", num_labels=2)\n"
   ]
  },
  {
   "cell_type": "markdown",
   "id": "3cfaa147",
   "metadata": {},
   "source": [
    "## **5️⃣ Define Training Arguments**\n",
    "Set hyperparameters for training."
   ]
  },
  {
   "cell_type": "code",
   "execution_count": null,
   "id": "aaa44172",
   "metadata": {},
   "outputs": [],
   "source": [
    "\n",
    "from transformers import TrainingArguments\n",
    "\n",
    "training_args = TrainingArguments(\n",
    "    output_dir=\"./results\",\n",
    "    evaluation_strategy=\"epoch\",\n",
    "    save_strategy=\"epoch\",\n",
    "    per_device_train_batch_size=8,\n",
    "    per_device_eval_batch_size=8,\n",
    "    num_train_epochs=3,\n",
    "    weight_decay=0.01,\n",
    "    logging_dir=\"./logs\",\n",
    "    logging_steps=100,\n",
    "    load_best_model_at_end=True,\n",
    ")\n"
   ]
  },
  {
   "cell_type": "markdown",
   "id": "7e539150",
   "metadata": {},
   "source": [
    "## **6️⃣ Train BERT Using Hugging Face Trainer**"
   ]
  },
  {
   "cell_type": "code",
   "execution_count": null,
   "id": "1bde0a8d",
   "metadata": {},
   "outputs": [],
   "source": [
    "\n",
    "from transformers import Trainer\n",
    "\n",
    "# Define Trainer\n",
    "trainer = Trainer(\n",
    "    model=model,\n",
    "    args=training_args,\n",
    "    train_dataset=tokenized_datasets[\"train\"],\n",
    "    eval_dataset=tokenized_datasets[\"test\"],\n",
    "    tokenizer=tokenizer,\n",
    "    data_collator=data_collator,\n",
    ")\n",
    "\n",
    "# Train the model\n",
    "trainer.train()\n"
   ]
  },
  {
   "cell_type": "markdown",
   "id": "88347de2",
   "metadata": {},
   "source": [
    "## **7️⃣ Save the Fine-Tuned Model**"
   ]
  },
  {
   "cell_type": "code",
   "execution_count": null,
   "id": "7b8eb684",
   "metadata": {},
   "outputs": [],
   "source": [
    "\n",
    "model.save_pretrained(\"./bert-sentiment-analysis\")\n",
    "tokenizer.save_pretrained(\"./bert-sentiment-analysis\")\n"
   ]
  },
  {
   "cell_type": "markdown",
   "id": "68f7ce43",
   "metadata": {},
   "source": [
    "## **8️⃣ Debugging Common Issues**"
   ]
  },
  {
   "cell_type": "code",
   "execution_count": null,
   "id": "302e9397",
   "metadata": {},
   "outputs": [],
   "source": [
    "\n",
    "# Example: Reducing batch size to fix memory issues\n",
    "training_args = TrainingArguments(\n",
    "    per_device_train_batch_size=4,  # Reduce batch size\n",
    "    gradient_accumulation_steps=2,  # Accumulate gradients\n",
    "    num_train_epochs=3,\n",
    ")\n"
   ]
  },
  {
   "cell_type": "markdown",
   "id": "88273324",
   "metadata": {},
   "source": [
    "## **9️⃣ Evaluate the Model**"
   ]
  },
  {
   "cell_type": "code",
   "execution_count": null,
   "id": "b2b7c7fe",
   "metadata": {},
   "outputs": [],
   "source": [
    "\n",
    "from datasets import load_metric\n",
    "\n",
    "# Load accuracy metric\n",
    "metric = load_metric(\"accuracy\")\n",
    "\n",
    "# Compute Accuracy\n",
    "def compute_metrics(eval_pred):\n",
    "    logits, labels = eval_pred\n",
    "    predictions = torch.argmax(torch.tensor(logits), axis=-1)\n",
    "    return metric.compute(predictions=predictions, references=labels)\n",
    "\n",
    "trainer.compute_metrics = compute_metrics\n",
    "\n",
    "# Evaluate Model\n",
    "results = trainer.evaluate()\n",
    "print(results)\n"
   ]
  },
  {
   "cell_type": "markdown",
   "id": "e47a4c6d",
   "metadata": {},
   "source": [
    "## **🔟 Real-World Sentiment Analysis**"
   ]
  },
  {
   "cell_type": "code",
   "execution_count": null,
   "id": "1ed07d0b",
   "metadata": {},
   "outputs": [],
   "source": [
    "\n",
    "def predict_sentiment(text):\n",
    "    inputs = tokenizer(text, return_tensors=\"pt\", truncation=True, padding=\"max_length\", max_length=512)\n",
    "    outputs = model(**inputs)\n",
    "    prediction = torch.argmax(outputs.logits).item()\n",
    "    return \"Positive\" if prediction == 1 else \"Negative\"\n",
    "\n",
    "# Example Predictions\n",
    "print(predict_sentiment(\"This movie was absolutely fantastic!\"))\n",
    "print(predict_sentiment(\"I hated this movie, it was the worst.\"))\n"
   ]
  }
 ],
 "metadata": {
  "language_info": {
   "name": "python"
  }
 },
 "nbformat": 4,
 "nbformat_minor": 5
}
