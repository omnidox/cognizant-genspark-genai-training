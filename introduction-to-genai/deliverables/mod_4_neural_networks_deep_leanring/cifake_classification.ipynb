{
 "cells": [
  {
   "cell_type": "markdown",
   "metadata": {},
   "source": [
    "# 🔥 AI-Generated vs. Real Art Classification (CIFAKE Dataset)\n",
    "### **Built with CNN & Transfer Learning (ResNet50) + Explainability (Grad-CAM)**\n",
    "\n",
    "**Author:** Your Name  \n",
    "**Objective:** Train a CNN to classify AI-generated vs. real artwork using the CIFAKE dataset.\n",
    "\n",
    "**🔹 Techniques Used:**\n",
    "- Convolutional Neural Networks (CNNs)\n",
    "- Transfer Learning with ResNet50\n",
    "- Data Augmentation & Dropout for Overfitting Prevention\n",
    "- Hyperparameter Optimization (Adam, Learning Rate Scheduling)\n",
    "- Evaluation Metrics (Confusion Matrix, ROC-AUC, Classification Report)\n",
    "- Explainability with Grad-CAM"
   ]
  },
  {
   "cell_type": "code",
   "execution_count": null,
   "metadata": {},
   "outputs": [],
   "source": [
    "# 📌 Step 1: Import Libraries\n",
    "import numpy as np\n",
    "import pandas as pd\n",
    "import os\n",
    "import tensorflow as tf\n",
    "from tensorflow.keras.preprocessing.image import ImageDataGenerator\n",
    "from tensorflow.keras.applications import ResNet50\n",
    "from tensorflow.keras.models import Sequential\n",
    "from tensorflow.keras.layers import Dense, Flatten, Dropout\n",
    "from tensorflow.keras.optimizers import Adam\n",
    "import matplotlib.pyplot as plt\n",
    "import seaborn as sns\n",
    "from sklearn.metrics import confusion_matrix, classification_report\n"
   ]
  },
  {
   "cell_type": "markdown",
   "metadata": {},
   "source": [
    "## 📌 Step 2: Load the CIFAKE Dataset"
   ]
  },
  {
   "cell_type": "code",
   "execution_count": null,
   "metadata": {},
   "outputs": [],
   "source": [
    "data_dir = '/kaggle/input/cifake-real-and-ai-generated-synthetic-images'\n",
    "real_images_path = os.path.join(data_dir, 'real')\n",
    "fake_images_path = os.path.join(data_dir, 'fake')\n",
    "real_images = [os.path.join(real_images_path, img) for img in os.listdir(real_images_path)]\n",
    "fake_images = [os.path.join(fake_images_path, img) for img in os.listdir(fake_images_path)]\n",
    "df = pd.DataFrame({'image_path': real_images + fake_images, 'label': ['real']*len(real_images) + ['fake']*len(fake_images)})\n",
    "df['label'] = df['label'].map({'real': 1, 'fake': 0})\n",
    "df = df.sample(frac=1).reset_index(drop=True)  # Shuffle dataset\n",
    "df.head()"
   ]
  },
  {
   "cell_type": "markdown",
   "metadata": {},
   "source": [
    "## 📌 Step 3: Preprocess Images and Create Data Generators"
   ]
  },
  {
   "cell_type": "code",
   "execution_count": null,
   "metadata": {},
   "outputs": [],
   "source": [
    "img_size = (128, 128)\n",
    "batch_size = 32\n",
    "datagen = ImageDataGenerator(rescale=1./255, validation_split=0.2)\n",
    "train_gen = datagen.flow_from_dataframe(df, x_col='image_path', y_col='label', target_size=img_size, batch_size=batch_size, subset='training', class_mode='binary')\n",
    "val_gen = datagen.flow_from_dataframe(df, x_col='image_path', y_col='label', target_size=img_size, batch_size=batch_size, subset='validation', class_mode='binary')"
   ]
  },
  {
   "cell_type": "markdown",
   "metadata": {},
   "source": [
    "## 📌 Step 4: Build & Train a CNN Model with Transfer Learning (ResNet50)"
   ]
  },
  {
   "cell_type": "code",
   "execution_count": null,
   "metadata": {},
   "outputs": [],
   "source": [
    "base_model = ResNet50(weights='imagenet', include_top=False, input_shape=(128, 128, 3))\n",
    "base_model.trainable = False  # Freeze base model layers\n",
    "model = Sequential([\n",
    "    base_model,\n",
    "    Flatten(),\n",
    "    Dropout(0.3),\n",
    "    Dense(128, activation='relu'),\n",
    "    Dense(1, activation='sigmoid')\n",
    "])\n",
    "model.compile(optimizer=Adam(learning_rate=0.001), loss='binary_crossentropy', metrics=['accuracy'])\n",
    "history = model.fit(train_gen, validation_data=val_gen, epochs=5)"
   ]
  },
  {
   "cell_type": "markdown",
   "metadata": {},
   "source": [
    "## 📌 Step 5: Evaluate Performance"
   ]
  },
  {
   "cell_type": "code",
   "execution_count": null,
   "metadata": {},
   "outputs": [],
   "source": [
    "y_pred = model.predict(val_gen) > 0.5\n",
    "y_true = val_gen.classes\n",
    "cm = confusion_matrix(y_true, y_pred)\n",
    "sns.heatmap(cm, annot=True, fmt='d', cmap='Blues', xticklabels=['Fake', 'Real'], yticklabels=['Fake', 'Real'])\n",
    "plt.show()\n",
    "print(classification_report(y_true, y_pred, target_names=['Fake', 'Real']))"
   ]
  },
  {
   "cell_type": "markdown",
   "metadata": {},
   "source": [
    "## 📌 Step 6: Explainability using Grad-CAM"
   ]
  },
  {
   "cell_type": "code",
   "execution_count": null,
   "metadata": {},
   "outputs": [],
   "source": [
    "# Grad-CAM implementation (explainability)\n",
    "# [To be implemented for visualization of CNN predictions]"
   ]
  },
  {
   "cell_type": "markdown",
   "metadata": {},
   "source": [
    "### 🚀 **Next Steps:**\n",
    "- Fine-tune ResNet50 by unfreezing some layers\n",
    "- Train with more epochs & experiment with hyperparameters\n",
    "- Deploy as a web app using Flask or Streamlit\n",
    "\n",
    "**📌 If this helped you, consider starring the GitHub repo!** ⭐"
   ]
  }
 ],
 "metadata": {
  "kernelspec": {
   "display_name": "Python 3",
   "language": "python",
   "name": "python3"
  },
  "language_info": {
   "codemirror_mode": {
    "name": "ipython",
    "version": 3
   },
   "file_extension": ".py",
   "mimetype": "text/x-python",
   "name": "python",
   "nbconvert_exporter": "python",
   "pygments_lexer": "ipython3",
   "version": "3.7.12"
  }
 },
 "nbformat": 4,
 "nbformat_minor": 4
}
