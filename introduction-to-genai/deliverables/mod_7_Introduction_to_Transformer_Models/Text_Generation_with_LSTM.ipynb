{
 "cells": [
  {
   "cell_type": "markdown",
   "metadata": {},
   "source": [
    "# 📊 **New York Times Comments Dataset Analysis**\n",
    "This notebook analyzes the New York Times Comments dataset available on Kaggle.\n",
    "We will extract metadata, check for missing values, and summarize the structure of the dataset before proceeding with text analysis."
   ]
  },
  {
   "cell_type": "markdown",
   "metadata": {},
   "source": [
    "## **📌 Step 1: Setup the Environment**\n",
    "We start by importing the necessary libraries and listing all available files in the dataset."
   ]
  },
  {
   "cell_type": "code",
   "execution_count": null,
   "metadata": {},
   "outputs": [],
   "source": [
    "import os\n",
    "import pandas as pd\n",
    "\n",
    "# Set path to dataset (Kaggle users should adjust as needed)\n",
    "dataset_path = \"../input/nyt-comments/\"\n",
    "\n",
    "# List all files in the dataset\n",
    "files = os.listdir(dataset_path)\n",
    "print(\"Files in dataset:\\n\", files)"
   ]
  },
  {
   "cell_type": "markdown",
   "metadata": {},
   "source": [
    "## **📌 Step 2: Load & Inspect Data**\n",
    "Let's load one file (e.g., `ArticlesJan2017.csv`) to inspect its structure."
   ]
  },
  {
   "cell_type": "code",
   "execution_count": null,
   "metadata": {},
   "outputs": [],
   "source": [
    "# Load an example file to inspect its structure\n",
    "sample_file = \"ArticlesJan2017.csv\"  # You can change this to any file in the dataset\n",
    "df = pd.read_csv(os.path.join(dataset_path, sample_file))\n",
    "\n",
    "# Display first few rows\n",
    "df.head()"
   ]
  },
  {
   "cell_type": "markdown",
   "metadata": {},
   "source": [
    "## **📌 Step 3: Extract Metadata**\n",
    "Now, we extract key metadata, such as column names, data types, and missing values."
   ]
  },
  {
   "cell_type": "code",
   "execution_count": null,
   "metadata": {},
   "outputs": [],
   "source": [
    "# Display dataset information\n",
    "df.info()"
   ]
  },
  {
   "cell_type": "markdown",
   "metadata": {},
   "source": [
    "## **📌 Step 4: Check for Missing Values**\n",
    "Checking for missing values in each column."
   ]
  },
  {
   "cell_type": "code",
   "execution_count": null,
   "metadata": {},
   "outputs": [],
   "source": [
    "# Check for missing values\n",
    "missing_values = df.isnull().sum()\n",
    "missing_values[missing_values > 0]"
   ]
  },
  {
   "cell_type": "markdown",
   "metadata": {},
   "source": [
    "## **📌 Step 5: Summary Statistics**\n",
    "Generate a summary of numeric and categorical columns."
   ]
  },
  {
   "cell_type": "code",
   "execution_count": null,
   "metadata": {},
   "outputs": [],
   "source": [
    "# Display summary statistics\n",
    "df.describe(include=\"all\").transpose()"
   ]
  },
  {
   "cell_type": "markdown",
   "metadata": {},
   "source": [
    "## **📌 Step 6: Check for Unique Identifiers**\n",
    "Find columns that can be used as unique identifiers."
   ]
  },
  {
   "cell_type": "code",
   "execution_count": null,
   "metadata": {},
   "outputs": [],
   "source": [
    "# Check if any column can be used as a unique identifier\n",
    "unique_counts = df.nunique()\n",
    "unique_counts"
   ]
  },
  {
   "cell_type": "markdown",
   "metadata": {},
   "source": [
    "## **📌 Step 7: Automate Metadata Extraction for All Files**\n",
    "Instead of manually inspecting each file, we automate metadata extraction for all files."
   ]
  },
  {
   "cell_type": "code",
   "execution_count": null,
   "metadata": {},
   "outputs": [],
   "source": [
    "# Iterate over all files and extract metadata\n",
    "metadata_summary = []\n",
    "\n",
    "for file in files:\n",
    "    file_path = os.path.join(dataset_path, file)\n",
    "    df = pd.read_csv(file_path)\n",
    "\n",
    "    metadata_summary.append({\n",
    "        \"File Name\": file,\n",
    "        \"Rows\": df.shape[0],\n",
    "        \"Columns\": df.shape[1],\n",
    "        \"Missing Values\": df.isnull().sum().sum(),\n",
    "        \"Duplicate Rows\": df.duplicated().sum(),\n",
    "        \"Unique Columns\": df.nunique().to_dict(),\n",
    "    })\n",
    "\n",
    "# Convert metadata summary to DataFrame for better readability\n",
    "metadata_df = pd.DataFrame(metadata_summary)\n",
    "metadata_df"
   ]
  },
  {
   "cell_type": "markdown",
   "metadata": {},
   "source": [
    "## **🔍 Conclusion**\n",
    "This notebook provides insights into the dataset structure, missing values, and metadata, making it ready for further text processing and LSTM-based text generation analysis."
   ]
  }
 ],
 "metadata": {
  "language_info": {
   "name": "python"
  }
 },
 "nbformat": 4,
 "nbformat_minor": 2
}
