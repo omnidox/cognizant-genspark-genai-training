{
 "cells": [
  {
   "cell_type": "markdown",
   "metadata": {},
   "source": [
    "# Assignment: Exploring String Methods\n",
    "\n",
    "**Hey there, string wrangler!**  \n",
    "Strings are one of the most exciting parts of Python, and this assignment is all about diving deep into them. Get ready to slice, dice, and manipulate strings like a pro!\n",
    "\n",
    "* * *"
   ]
  },
  {
   "cell_type": "markdown",
   "metadata": {},
   "source": [
    "**Task 1 - String Slicing and Indexing**\n",
    "\n",
    "1.  Create a string variable with the value `\"Python is amazing!\"`.\n",
    "2.  Extract the following using slicing:\n",
    "    -   The first 6 characters (`\"Python\"`)\n",
    "    -   The word `\"amazing\"`\n",
    "    -   The entire string in reverse order\n",
    "3.  Print each of these slices with a clear label.\n",
    "\n",
    "Example Output:\n",
    "\n",
    "`First word: Python`\n",
    "\n",
    "`Amazing part: amazing`\n",
    "\n",
    "`Reversed string: !gnizama si nohtyP`\n",
    "\n",
    "***"
   ]
  },
  {
   "cell_type": "code",
   "execution_count": 7,
   "metadata": {},
   "outputs": [
    {
     "name": "stdout",
     "output_type": "stream",
     "text": [
      "First word: Python\n",
      "Amazing part: amazing\n",
      "Reversed sting: !gnizama si nohtyP\n"
     ]
    }
   ],
   "source": [
    "message = \"Python is amazing!\" # Define the string\n",
    "\n",
    "words = message.split(\"is\") # Split the string at \"is\"\n",
    "\n",
    "# Strip whitespace from each element in the list\n",
    "cleaned_words = [word.strip(\" !\") for word in words] # Strip spaces and ! from each word in the list\n",
    "\n",
    "print(f\"First word: {cleaned_words[0]}\") # Print the first element in the list\n",
    "\n",
    "print(f\"Amazing part: {cleaned_words[1]}\") # Print the second element in the list\n",
    "\n",
    "print(f\"Reversed sting: {message[::-1]}\") # Reverse the string"
   ]
  },
  {
   "cell_type": "markdown",
   "metadata": {},
   "source": [
    "**Task 2 - String Methods**\n",
    "\n",
    "1.  Create a string with the value `\" hello, python world! \"`.\n",
    "2.  Use the following string methods and print the results:\n",
    "    -   `strip()` to remove extra spaces\n",
    "    -   `capitalize()` to capitalize the first letter\n",
    "    -   `replace()` to replace `\"world\"` with `\"universe\"`\n",
    "    -   `upper()` to convert the string to uppercase\n",
    "\n",
    "* * *"
   ]
  },
  {
   "cell_type": "code",
   "execution_count": 10,
   "metadata": {},
   "outputs": [
    {
     "name": "stdout",
     "output_type": "stream",
     "text": [
      "Stripped message: hello, python world!\n",
      "Capitalized message: Hello, python world!\n",
      "Replaced message: hello, python universe!\n",
      "Message in uppercase: HELLO, PYTHON WORLD!\n"
     ]
    }
   ],
   "source": [
    "message = \" hello, python world! \"\n",
    "print(f\"Stripped message: {message.strip()}\") # Strip whitespace from the string\n",
    "print(f\"Capitalized message: {message.strip().capitalize()}\") # Capitalize the string\n",
    "print(f\"Replaced message: {message.strip().replace('world', 'universe')}\") # Replace \"world\" with \"universe\" in the string\n",
    "print(f\"Message in uppercase: {message.strip().upper()}\") # Convert the string to uppercase"
   ]
  },
  {
   "cell_type": "markdown",
   "metadata": {},
   "source": [
    "**Task 3 - Check for Palindromes**  \n",
    "Write a Python program to check if a string is a palindrome (reads the same backward and forward).\n",
    "\n",
    "1.  Ask the user to input a word.\n",
    "2.  Use slicing to reverse the string and compare it with the original.\n",
    "3.  Print a friendly message indicating whether the word is a palindrome.\n",
    "\n",
    "Example Run:\n",
    "\n",
    "`Enter a word: madam`\n",
    "\n",
    "`Yes, 'madam' is a palindrome!`\n",
    "\n",
    "***"
   ]
  },
  {
   "cell_type": "code",
   "execution_count": 13,
   "metadata": {},
   "outputs": [
    {
     "name": "stdout",
     "output_type": "stream",
     "text": [
      "racecar is a palindrome!\n"
     ]
    }
   ],
   "source": [
    "palindrome = input(\"Type in a word, and we'll determine if it's a palindrome!: \")\n",
    "\n",
    "if palindrome == palindrome[::-1]:\n",
    "    print(f\"{palindrome} is a palindrome!\")\n",
    "else:\n",
    "    print(f\"{palindrome} is not a palindrome!\")\n"
   ]
  }
 ],
 "metadata": {
  "kernelspec": {
   "display_name": "Python 3",
   "language": "python",
   "name": "python3"
  },
  "language_info": {
   "codemirror_mode": {
    "name": "ipython",
    "version": 3
   },
   "file_extension": ".py",
   "mimetype": "text/x-python",
   "name": "python",
   "nbconvert_exporter": "python",
   "pygments_lexer": "ipython3",
   "version": "3.12.4"
  }
 },
 "nbformat": 4,
 "nbformat_minor": 2
}
