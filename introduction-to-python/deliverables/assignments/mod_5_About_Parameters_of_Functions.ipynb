{
 "cells": [
  {
   "cell_type": "markdown",
   "metadata": {
    "vscode": {
     "languageId": "plaintext"
    }
   },
   "source": [
    "# Assignment: About Parameters of Functions\n",
    "\n",
    "Hello, Python Prodigy!  \n",
    "Functions and recursion are powerful tools that let us write reusable, efficient, and elegant code. Let’s dive into these concepts with some engaging tasks. \n",
    "\n",
    "* * *"
   ]
  },
  {
   "cell_type": "markdown",
   "metadata": {},
   "source": [
    "#### **Task 1 - Writing Functions**\n",
    "\n",
    "Create a function `greet_user` that accepts a name as a parameter and prints a personalized greeting.  \n",
    "Then, write another function `add_numbers` that takes two numbers as parameters, adds them, and returns the result.\n",
    "\n",
    "**Example Output**:\n",
    "\n",
    "`Hello, Alice! Welcome aboard. The sum of 5 and 10 is 15.`\n",
    "\n",
    "***"
   ]
  },
  {
   "cell_type": "code",
   "execution_count": 3,
   "metadata": {},
   "outputs": [
    {
     "name": "stdout",
     "output_type": "stream",
     "text": [
      "Hello, Rafael Welcome aboard!\n",
      "The sum of 10 and 20 is 30\n"
     ]
    }
   ],
   "source": [
    "# create a function greet_user that accepts a name as a parameter and prints a greeting to the user\n",
    "def greet_user(name):\n",
    "    print(f\"Hello, {name} Welcome aboard!\")\n",
    "\n",
    "# Create a function add_numbers that takes two numbers as parameters and returns the sum of the numbers\n",
    "def add_numbers(num1, num2):\n",
    "    return num1 + num2, num1, num2\n",
    "\n",
    "# Call the greet_user function and pass your name as an argument\n",
    "greet_user(\"Rafael\")\n",
    "\n",
    "# Call the add_numbers function and unpack the result into three variables: result, num1, num2\n",
    "result, num1, num2 = add_numbers(10, 20)\n",
    "print(f\"The sum of {num1} and {num2} is {result}\")"
   ]
  },
  {
   "cell_type": "markdown",
   "metadata": {},
   "source": [
    "#### **Task 2 - Using Default Parameters**\n",
    "\n",
    "Create a function `describe_pet` that accepts two parameters:\n",
    "\n",
    "-   `pet_name` (string)\n",
    "-   `animal_type` (string, default value is \"dog\").\n",
    "\n",
    "The function should print a description of the pet.\n",
    "\n",
    "**Example Output**:\n",
    "\n",
    "`I have a dog named Buddy. I have a cat named Whiskers.`\n",
    "\n",
    "***\n"
   ]
  },
  {
   "cell_type": "code",
   "execution_count": 4,
   "metadata": {},
   "outputs": [
    {
     "name": "stdout",
     "output_type": "stream",
     "text": [
      "I have a dog named Rex\n",
      "I have a cat named Whiskers\n",
      "I have a hamster named Spike\n"
     ]
    }
   ],
   "source": [
    "# Create a finction describe_pet that accepts two paramaters: pet_name(string) and animal_type(string, default=\"dog\")\n",
    "# The function should print a sentence that describes the pet\n",
    "def describe_pet(pet_name, animal_type=\"dog\"):\n",
    "    print(f\"I have a {animal_type} named {pet_name}\")\n",
    "\n",
    "# Call the describe_pet function with a pet name and animal type\n",
    "describe_pet(\"Rex\", \"dog\")\n",
    "describe_pet(\"Whiskers\", \"cat\")\n",
    "describe_pet(\"Spike\", \"hamster\")\n"
   ]
  },
  {
   "cell_type": "markdown",
   "metadata": {},
   "source": [
    "#### **Task 3 - Functions with Variable Arguments**\n",
    "\n",
    "Write a function `make_sandwich` that accepts a variable number of arguments for sandwich ingredients and prints them as a list.\n",
    "\n",
    "**Example Output**:\n",
    "\n",
    "`Making a sandwich with the following ingredients: - Lettuce - Tomato - Cheese`\n",
    "\n",
    "* * *"
   ]
  },
  {
   "cell_type": "code",
   "execution_count": 5,
   "metadata": {},
   "outputs": [
    {
     "name": "stdout",
     "output_type": "stream",
     "text": [
      "('ham', 'cheese', 'lettuce')\n",
      "('turkey', 'bacon', 'tomato', 'mayo')\n",
      "('peanut butter', 'jelly')\n"
     ]
    }
   ],
   "source": [
    "# Write a function make_sandwhich that accepts a variable number of arguments for sandwhich ingredients and prints them as a list\n",
    "def make_sandwhich(*ingredients):\n",
    "    print(ingredients)\n",
    "\n",
    "# Call the make_sandwhich function with a variety of ingredients\n",
    "make_sandwhich(\"ham\", \"cheese\", \"lettuce\")\n",
    "make_sandwhich(\"turkey\", \"bacon\", \"tomato\", \"mayo\")\n",
    "make_sandwhich(\"peanut butter\", \"jelly\")"
   ]
  },
  {
   "cell_type": "markdown",
   "metadata": {},
   "source": [
    "#### **Task 4 - Understanding Recursion**\n",
    "\n",
    "Write a recursive function `factorial` to calculate the factorial of a number.  \n",
    "Then, write another recursive function `fibonacci` to calculate the nth number in the Fibonacci sequence.\n",
    "\n",
    "**Example Output**:\n",
    "\n",
    "`Factorial of 5 is 120. The 6th Fibonacci number is 8.`\n",
    "\n"
   ]
  },
  {
   "cell_type": "code",
   "execution_count": 6,
   "metadata": {},
   "outputs": [
    {
     "name": "stdout",
     "output_type": "stream",
     "text": [
      "120\n",
      "55\n"
     ]
    }
   ],
   "source": [
    "# a recursive function \"factorial\" to calculate the factorial of a number\n",
    "def factorial(n):\n",
    "    if n == 0:\n",
    "        return 1\n",
    "    else:\n",
    "        return n * factorial(n - 1)\n",
    "\n",
    "# a recursive function \"fibonacci\" to calculate the fibonacci sequence\n",
    "def fibonacci(n):\n",
    "    if n <= 1:\n",
    "        return n\n",
    "    else:\n",
    "        return fibonacci(n - 1) + fibonacci(n - 2)\n",
    "    \n",
    "# Call the factorial function with a number and print the result\n",
    "print(factorial(5))\n",
    "\n",
    "# Call the fibonacci function with a number and print the result\n",
    "print(fibonacci(10))"
   ]
  },
  {
   "cell_type": "code",
   "execution_count": null,
   "metadata": {},
   "outputs": [],
   "source": []
  }
 ],
 "metadata": {
  "kernelspec": {
   "display_name": "Python 3",
   "language": "python",
   "name": "python3"
  },
  "language_info": {
   "codemirror_mode": {
    "name": "ipython",
    "version": 3
   },
   "file_extension": ".py",
   "mimetype": "text/x-python",
   "name": "python",
   "nbconvert_exporter": "python",
   "pygments_lexer": "ipython3",
   "version": "3.12.4"
  }
 },
 "nbformat": 4,
 "nbformat_minor": 2
}
