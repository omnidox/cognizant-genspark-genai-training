{
 "cells": [
  {
   "cell_type": "markdown",
   "metadata": {},
   "source": [
    "# Assignment: Hands on Python Data Structures\n",
    "\n",
    "**Hey there, Python explorer!**  \n",
    "Lists, dictionaries, and tuples are essential tools in Python, and this assignment will help you master their use. Let's get started!\n",
    "\n",
    "* * *"
   ]
  },
  {
   "cell_type": "markdown",
   "metadata": {},
   "source": [
    "**Task 1 - Working with Lists**\n",
    "\n",
    "1.  Create a list of your favorite fruits. Add at least five fruits to the list.\n",
    "2.  Perform the following operations:\n",
    "    -   Append a new fruit to the list.\n",
    "    -   Remove one fruit from the list using the `remove()` method.\n",
    "    -   Print the list in reverse order using slicing.\n",
    "\n",
    "Example Output:\n",
    "\n",
    "`Original list: ['apple', 'banana', 'cherry', 'date', 'elderberry']`\n",
    "\n",
    "`After adding a fruit: ['apple', 'banana', 'cherry', 'date', 'elderberry', 'fig']`\n",
    "\n",
    "`After removing a fruit: ['banana', 'cherry', 'date', 'elderberry', 'fig']`\n",
    "\n",
    "`Reversed list: ['fig', 'elderberry', 'date', 'cherry', 'banana']`\n",
    "\n",
    "***"
   ]
  },
  {
   "cell_type": "code",
   "execution_count": 2,
   "metadata": {},
   "outputs": [
    {
     "name": "stdout",
     "output_type": "stream",
     "text": [
      "['Peaches', 'Cherries', 'Plums', 'Grapes', 'Mango']\n"
     ]
    }
   ],
   "source": [
    "# make a list of fruits\n",
    "list_of_fruits = [\"Mango\",\"Banana\",\"Grapes\", \"Plums\", \"Cherries\" ]\n",
    "\n",
    "# Appending a fruit to the list\n",
    "list_of_fruits.append(\"Peaches\")\n",
    "\n",
    "# Removing a fruit from the list\n",
    "list_of_fruits.remove(\"Banana\")\n",
    "\n",
    "# Print in reverse order using slicing\n",
    "print(list_of_fruits[::-1])"
   ]
  },
  {
   "cell_type": "code",
   "execution_count": null,
   "metadata": {},
   "outputs": [],
   "source": []
  }
 ],
 "metadata": {
  "kernelspec": {
   "display_name": "Python 3",
   "language": "python",
   "name": "python3"
  },
  "language_info": {
   "codemirror_mode": {
    "name": "ipython",
    "version": 3
   },
   "file_extension": ".py",
   "mimetype": "text/x-python",
   "name": "python",
   "nbconvert_exporter": "python",
   "pygments_lexer": "ipython3",
   "version": "3.12.4"
  }
 },
 "nbformat": 4,
 "nbformat_minor": 2
}
