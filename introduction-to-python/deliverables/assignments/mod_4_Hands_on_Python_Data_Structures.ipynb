{
 "cells": [
  {
   "cell_type": "markdown",
   "metadata": {},
   "source": [
    "# Assignment: Hands on Python Data Structures\n",
    "\n",
    "**Hey there, Python explorer!**  \n",
    "Lists, dictionaries, and tuples are essential tools in Python, and this assignment will help you master their use. Let's get started!\n",
    "\n",
    "* * *"
   ]
  },
  {
   "cell_type": "markdown",
   "metadata": {},
   "source": [
    "**Task 1 - Working with Lists**\n",
    "\n",
    "1.  Create a list of your favorite fruits. Add at least five fruits to the list.\n",
    "2.  Perform the following operations:\n",
    "    -   Append a new fruit to the list.\n",
    "    -   Remove one fruit from the list using the `remove()` method.\n",
    "    -   Print the list in reverse order using slicing.\n",
    "\n",
    "Example Output:\n",
    "\n",
    "`Original list: ['apple', 'banana', 'cherry', 'date', 'elderberry']`\n",
    "\n",
    "`After adding a fruit: ['apple', 'banana', 'cherry', 'date', 'elderberry', 'fig']`\n",
    "\n",
    "`After removing a fruit: ['banana', 'cherry', 'date', 'elderberry', 'fig']`\n",
    "\n",
    "`Reversed list: ['fig', 'elderberry', 'date', 'cherry', 'banana']`\n",
    "\n",
    "***"
   ]
  },
  {
   "cell_type": "code",
   "execution_count": 2,
   "metadata": {},
   "outputs": [
    {
     "name": "stdout",
     "output_type": "stream",
     "text": [
      "['Peaches', 'Cherries', 'Plums', 'Grapes', 'Mango']\n"
     ]
    }
   ],
   "source": [
    "# make a list of fruits\n",
    "list_of_fruits = [\"Mango\",\"Banana\",\"Grapes\", \"Plums\", \"Cherries\" ]\n",
    "\n",
    "# Appending a fruit to the list\n",
    "list_of_fruits.append(\"Peaches\")\n",
    "\n",
    "# Removing a fruit from the list\n",
    "list_of_fruits.remove(\"Banana\")\n",
    "\n",
    "# Print in reverse order using slicing\n",
    "print(list_of_fruits[::-1])"
   ]
  },
  {
   "cell_type": "markdown",
   "metadata": {},
   "source": [
    "**Task 2 - Exploring Dictionaries**\n",
    "\n",
    "1.  Create a dictionary to store information about yourself with the following keys: `\"name\"`, `\"age\"`, `\"city\"`.\n",
    "2.  Add a new key-value pair to the dictionary for `\"favorite color\"`.\n",
    "3.  Update the `\"city\"` key with a new value.\n",
    "4.  Print all the keys and values using a loop.\n",
    "\n",
    "Example Output:\n",
    "\n",
    "`Keys: name, age, city, favorite color`\n",
    "\n",
    "`Values: Alice, 25, New York, Blue`\n",
    "\n",
    "* * *"
   ]
  },
  {
   "cell_type": "code",
   "execution_count": 3,
   "metadata": {},
   "outputs": [
    {
     "name": "stdout",
     "output_type": "stream",
     "text": [
      "name Rafael\n",
      "age 36\n",
      "city East Orange\n",
      "favorite color Green\n"
     ]
    }
   ],
   "source": [
    "# create a dictionay with \"name\", \"age\", \"city\"\n",
    "my_dict = {\"name\":\"Rafael\", \"age\":36, \"city\":\"West Orange\"}\n",
    "\n",
    "# Add \"favorite color\" to the dictionary\n",
    "my_dict[\"favorite color\"] = \"Green\"\n",
    "\n",
    "# Update \"city\" to a new value\n",
    "my_dict[\"city\"] = \"East Orange\"\n",
    "\n",
    "# Print all the keys and values using a loop\n",
    "for key, value in my_dict.items():\n",
    "    print(key, value)"
   ]
  },
  {
   "cell_type": "markdown",
   "metadata": {},
   "source": [
    "**Task 3 - Using Tuples**\n",
    "\n",
    "1.  Create a tuple with three elements: your favorite movie, song, and book.\n",
    "2.  Try to change one of the elements (you’ll see why tuples are immutable!).\n",
    "3.  Print the length of the tuple using the `len()` function.\n",
    "\n",
    "Example Output:\n",
    "\n",
    "`Favorite things: ('Inception', 'Bohemian Rhapsody', '1984')`\n",
    "\n",
    "`Oops! Tuples cannot be changed.`\n",
    "\n",
    "`Length of tuple: 3`"
   ]
  },
  {
   "cell_type": "code",
   "execution_count": 5,
   "metadata": {},
   "outputs": [
    {
     "name": "stdout",
     "output_type": "stream",
     "text": [
      "3\n"
     ]
    }
   ],
   "source": [
    "# Create a tuple with three elements: your favorite movie, song, and book\n",
    "my_tuple = (\"Inside Out\", \"Beelzeboss\", \"Us: Getting Past You and Me to Build a More Loving Relationship\")\n",
    "\n",
    "# Try to change one of the elements to see why tuples are immutable\n",
    "# my_tuple[0] = \"The Matrix\" # This will raise an error\n",
    "\n",
    "# Print the length of the tuple using the len() function\n",
    "print(len(my_tuple))"
   ]
  }
 ],
 "metadata": {
  "kernelspec": {
   "display_name": "Python 3",
   "language": "python",
   "name": "python3"
  },
  "language_info": {
   "codemirror_mode": {
    "name": "ipython",
    "version": 3
   },
   "file_extension": ".py",
   "mimetype": "text/x-python",
   "name": "python",
   "nbconvert_exporter": "python",
   "pygments_lexer": "ipython3",
   "version": "3.12.4"
  }
 },
 "nbformat": 4,
 "nbformat_minor": 2
}
