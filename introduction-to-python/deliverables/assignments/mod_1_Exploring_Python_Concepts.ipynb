{
 "cells": [
  {
   "cell_type": "markdown",
   "metadata": {},
   "source": [
    "# Assignment: Exploring Python Concepts\n",
    "\n",
    "**Hey there!**  \n",
    "Welcome to your first Python assignment! 🎉 This is where the real fun begins. Today, we’ll practice the fundamentals: variables, operators, and conditional statements. By the end of this assignment, you’ll feel like a mini Python pro!\n",
    "\n",
    "Here’s what you need to do:\n",
    "\n"
   ]
  },
  {
   "cell_type": "markdown",
   "metadata": {},
   "source": [
    "## Task 1 - Variables: Your First Python Intro\n",
    "\n",
    "Let's start simple! Imagine you're describing yourself (or anyone else you like) using Python variables.\n",
    "\n",
    "1. Create a `name` variable that stores a string (like your name or a fictional character's name).\n",
    "2. Create an `age` variable that stores an integer value.\n",
    "3. Create a `height` variable that stores a floating-point number.\n",
    "\n",
    "For example, something like this:\n",
    "\n",
    "```python\n",
    "name = \"Alex\"\n",
    "age = 25\n",
    "height = 5.9\n",
    "```\n",
    "\n",
    "Now print these variables in a friendly message:\n",
    "\n",
    "- **Example Output:**\n",
    "  \n",
    "  ```python\n",
    "  \"Hey there, my name is Alex! I'm 25 years old and 5.9 feet tall.\"\n",
    "  ```\n",
    "\n",
    "Feel free to get creative with the message! 🚀\n"
   ]
  },
  {
   "cell_type": "code",
   "execution_count": 2,
   "metadata": {},
   "outputs": [
    {
     "name": "stdout",
     "output_type": "stream",
     "text": [
      "Hello, world! 🌍 I'm Rafael, a 36-year-old problem solver, educator, and tech enthusiast, standing at 5.9 feet. Passionate about AI, data science, and building meaningful software solutions. Always learning, always creating—ready to tackle challenges and explore new horizons! 🚀💡\n"
     ]
    }
   ],
   "source": [
    "name = \"Rafael\"\n",
    "age = 36\n",
    "height = 5.9\n",
    "\n",
    "print(f\"Hello, world! 🌍 I'm {name}, a {age}-year-old problem solver, educator, and tech enthusiast, standing at {height} feet. Passionate about AI, data science, and building meaningful software solutions. Always learning, always creating—ready to tackle challenges and explore new horizons! 🚀💡\")\n"
   ]
  },
  {
   "cell_type": "markdown",
   "metadata": {},
   "source": [
    "## Task 2 - Operators: Playing with Numbers\n",
    "\n",
    "We all love some math, don’t we? Okay, maybe not everyone, but trust me, this will be easy and fun!\n",
    "\n",
    "1. Pick two numbers, let’s say `num1` and `num2` (you choose the values!).\n",
    "2. Perform the following operations on these numbers:\n",
    "   - Addition\n",
    "   - Subtraction\n",
    "   - Multiplication\n",
    "   - Division\n",
    "\n",
    "Write your Python code to calculate and display the results with a nice message for each.\n",
    "\n",
    "For example:\n",
    "\n",
    "```python\n",
    "num1 = 10\n",
    "num2 = 3\n",
    "\n",
    "print(\"The sum of 10 and 3 is\", num1 + num2)\n",
    "```\n",
    "\n",
    "Be sure to explain what you’re doing in comments! Bonus points if you throw in some humor. 😁\n"
   ]
  },
  {
   "cell_type": "code",
   "execution_count": null,
   "metadata": {},
   "outputs": [],
   "source": [
    "# Let's pick two numbers for our operations\n",
    "num1 = 42 # The answer to life, the universe, and everything\n",
    "num2 = 7 # A lucky number\n",
    "\n",
    "# Addition\n",
    "addition_result = num1 + num2\n",
    "print(f\"When you add {num1} and {num2}, you get {addition_result}. Astounding! ✨\")\n",
    "\n",
    "# Subtraction\n",
    "subtraction_result = num1 - num2\n",
    "print(f\"Subtracting {num2} from {num1} gives you {subtraction_result}. It's like taking candy from a baby! 🍬\")\n",
    "\n",
    "# Multiplication\n",
    "multiplication_result = num1 * num2\n",
    "print(f\"Multiplying {num1} by {num2} results in {multiplication_result}. That's a much bigger number! 💪\")\n",
    "\n",
    "# Division\n",
    "division_result = num1 / num2\n",
    "print(f\"Dividing {num1} by {num2} gives you {division_result}. Division is just fair sharing! 🤝\")"
   ]
  },
  {
   "cell_type": "markdown",
   "metadata": {},
   "source": [
    "## Task 3 - Conditional Statements: The Number Checker\n",
    "\n",
    "Now for the real challenge: let’s make your code think!\n",
    "\n",
    "Write a program that takes a number from the user and tells them whether it’s positive, negative, or zero.\n",
    "\n",
    "### Here’s how it should work:\n",
    "1. Ask the user to enter a number (use the `input()` function).\n",
    "2. Use `if`, `elif`, and `else` statements to check:\n",
    "   - If the number is greater than 0, print: **\"This number is positive. Awesome!\"**\n",
    "   - If the number is less than 0, print: **\"This number is negative. Better luck next time!\"**\n",
    "   - If the number is exactly 0, print: **\"Zero it is. A perfect balance!\"**\n",
    "\n",
    "Make sure to test your code with a few different numbers. You’ll be surprised how fun it is to see your program come to life! 💻✨\n"
   ]
  },
  {
   "cell_type": "code",
   "execution_count": 9,
   "metadata": {},
   "outputs": [
    {
     "name": "stdout",
     "output_type": "stream",
     "text": [
      "This number is positive. Awesome!\n"
     ]
    }
   ],
   "source": [
    "checked_number = int(input(\"Please type in a number: \")) # Let's check if this number is positive, negative, or zero\n",
    "\n",
    "if checked_number > 0:\n",
    "    print(\"This number is positive. Awesome!\")\n",
    "elif checked_number < 0:\n",
    "    print(\"This number is negative. Better luck next time!\")\n",
    "else:\n",
    "    print(\"Zero it is. A perfect balance!\")"
   ]
  }
 ],
 "metadata": {
  "kernelspec": {
   "display_name": "Python 3",
   "language": "python",
   "name": "python3"
  },
  "language_info": {
   "codemirror_mode": {
    "name": "ipython",
    "version": 3
   },
   "file_extension": ".py",
   "mimetype": "text/x-python",
   "name": "python",
   "nbconvert_exporter": "python",
   "pygments_lexer": "ipython3",
   "version": "3.12.4"
  }
 },
 "nbformat": 4,
 "nbformat_minor": 2
}
