{
 "cells": [
  {
   "cell_type": "markdown",
   "metadata": {},
   "source": [
    "# Assignment: Check your Knowledge on Errors\n",
    "\n",
    "Hey there, Python Troubleshooter!  \n",
    "Exceptions and errors are essential topics for writing robust and fault-tolerant code. This assignment will guide you in handling errors gracefully and understanding Python exceptions. Let’s begin! \n",
    "\n",
    "* * *"
   ]
  },
  {
   "cell_type": "markdown",
   "metadata": {},
   "source": [
    "#### **Task 1 - Understanding Python Exceptions**\n",
    "\n",
    "Write a Python program that:\n",
    "\n",
    "1.  Prompts the user to enter a number.\n",
    "2.  Tries to divide 100 by the number.\n",
    "3.  Handles the following exceptions:\n",
    "    -   `ZeroDivisionError` (when dividing by zero).\n",
    "    -   `ValueError` (when the user enters non-numeric input).\n",
    "4.  Prints appropriate error messages for each exception.\n",
    "\n",
    "**Example Output**:\n",
    "\n",
    "`Enter a number: 0 Oops! You cannot divide by zero. Enter a number: abc Invalid input! Please enter a valid number. Enter a number: 4 100 divided by 4 is 25.0`\n",
    "\n",
    "* * *"
   ]
  },
  {
   "cell_type": "code",
   "execution_count": 2,
   "metadata": {},
   "outputs": [
    {
     "name": "stdout",
     "output_type": "stream",
     "text": [
      "Oops! You cannot divide by zero. Try again.\n",
      "Invalid input! Please enter a valid number.\n",
      "100 divided by 3.0 is 33.333333333333336\n"
     ]
    }
   ],
   "source": [
    "def divide_100():\n",
    "    \"\"\"Prompts the user for a number and divides 100 by it, handling exceptions.\"\"\"\n",
    "    while True:\n",
    "        try:\n",
    "            num = input(\"Enter a number: \")\n",
    "            num = float(num)  # Convert input to a float\n",
    "            result = 100 / num\n",
    "            print(f\"100 divided by {num} is {result}\")\n",
    "            break  # Exit the loop if successful\n",
    "        except ZeroDivisionError:\n",
    "            print(\"Oops! You cannot divide by zero. Try again.\")\n",
    "        except ValueError:\n",
    "            print(\"Invalid input! Please enter a valid number.\")\n",
    "\n",
    "# Run the function\n",
    "divide_100()"
   ]
  },
  {
   "cell_type": "markdown",
   "metadata": {},
   "source": [
    "#### **Task 2 - Types of Exceptions**\n",
    "\n",
    "Create a program that intentionally raises and handles the following exceptions:\n",
    "\n",
    "-   `IndexError` by accessing an invalid list index.\n",
    "-   `KeyError` by trying to access a non-existent key in a dictionary.\n",
    "-   `TypeError` by adding a string and an integer.\n",
    "\n",
    "Explain in comments how each error occurs and how it is handled.\n",
    "\n",
    "**Example Output**:\n",
    "\n",
    "`IndexError occurred! List index out of range. KeyError occurred! Key not found in the dictionary. TypeError occurred! Unsupported operand types.`\n",
    "\n",
    "* * *"
   ]
  },
  {
   "cell_type": "code",
   "execution_count": 3,
   "metadata": {},
   "outputs": [
    {
     "name": "stdout",
     "output_type": "stream",
     "text": [
      "IndexError occurred! list index out of range\n",
      "KeyError occurred! 'address'\n",
      "TypeError occurred! can only concatenate str (not \"int\") to str\n"
     ]
    }
   ],
   "source": [
    "def handle_exceptions():\n",
    "    \"\"\"Demonstrates handling of IndexError, KeyError, and TypeError.\"\"\"\n",
    "    \n",
    "    # Handling IndexError\n",
    "    try:\n",
    "        my_list = [1, 2, 3]\n",
    "        print(my_list[5])  # Trying to access index 5, which does not exist\n",
    "    except IndexError as e:\n",
    "        print(f\"IndexError occurred! {e}\")\n",
    "\n",
    "    # Handling KeyError\n",
    "    try:\n",
    "        my_dict = {\"name\": \"Alice\", \"age\": 25}\n",
    "        print(my_dict[\"address\"])  # Trying to access a non-existent key\n",
    "    except KeyError as e:\n",
    "        print(f\"KeyError occurred! {e}\")\n",
    "\n",
    "    # Handling TypeError\n",
    "    try:\n",
    "        result = \"Hello\" + 5  # Trying to add a string and an integer\n",
    "    except TypeError as e:\n",
    "        print(f\"TypeError occurred! {e}\")\n",
    "\n",
    "# Run the function\n",
    "handle_exceptions()"
   ]
  },
  {
   "cell_type": "markdown",
   "metadata": {},
   "source": [
    "#### **Task 3 - Using `try...except...else...finally`**\n",
    "\n",
    "Write a program that:\n",
    "\n",
    "1.  Prompts the user to enter two numbers.\n",
    "2.  Tries to divide the first number by the second number.\n",
    "3.  Implements the following:\n",
    "    -   `try` block to attempt the division.\n",
    "    -   `except` block to handle exceptions.\n",
    "    -   `else` block to display the result if no exceptions occur.\n",
    "    -   `finally` block to print a closing message regardless of exceptions.\n",
    "\n",
    "**Example Output**:\n",
    "\n",
    "`Enter the first number: 10 Enter the second number: 2 The result is 5.0. This block always executes.`\n",
    "\n",
    "* * *"
   ]
  },
  {
   "cell_type": "code",
   "execution_count": 5,
   "metadata": {},
   "outputs": [
    {
     "name": "stdout",
     "output_type": "stream",
     "text": [
      "Error: You cannot divide by zero!\n",
      "This block always executes.\n"
     ]
    }
   ],
   "source": [
    "def divide_numbers():\n",
    "    \"\"\"Prompts the user for two numbers and performs division using try...except...else...finally.\"\"\"\n",
    "    \n",
    "    try:\n",
    "        # Getting user input\n",
    "        num1 = float(input(\"Enter the first number: \"))\n",
    "        num2 = float(input(\"Enter the second number: \"))\n",
    "\n",
    "        # Attempting division\n",
    "        result = num1 / num2\n",
    "    \n",
    "    except ZeroDivisionError:\n",
    "        print(\"Error: You cannot divide by zero!\")\n",
    "    \n",
    "    except ValueError:\n",
    "        print(\"Error: Invalid input! Please enter numeric values.\")\n",
    "    \n",
    "    else:\n",
    "        # Executes only if no exception occurs\n",
    "        print(f\"The result is {result}.\")\n",
    "    \n",
    "    finally:\n",
    "        # Executes no matter what (exception or no exception)\n",
    "        print(\"This block always executes.\")\n",
    "\n",
    "# Run the function\n",
    "divide_numbers()"
   ]
  }
 ],
 "metadata": {
  "kernelspec": {
   "display_name": "Python 3",
   "language": "python",
   "name": "python3"
  },
  "language_info": {
   "codemirror_mode": {
    "name": "ipython",
    "version": 3
   },
   "file_extension": ".py",
   "mimetype": "text/x-python",
   "name": "python",
   "nbconvert_exporter": "python",
   "pygments_lexer": "ipython3",
   "version": "3.12.4"
  }
 },
 "nbformat": 4,
 "nbformat_minor": 2
}
