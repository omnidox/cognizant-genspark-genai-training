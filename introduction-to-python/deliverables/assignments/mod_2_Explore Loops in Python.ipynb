{
 "cells": [
  {
   "cell_type": "markdown",
   "metadata": {},
   "source": [
    "# Assignment: Explore Loops in Python\n",
    "\n",
    "**Hey there, Python enthusiast!**  \n",
    "Get ready to dive deep into loops and unleash their full power! In this assignment, you’ll practice using both `for` and `while` loops to solve practical problems. Let’s get started!"
   ]
  },
  {
   "cell_type": "markdown",
   "metadata": {},
   "source": [
    "**Task 1 - Counting Down with Loops**  \n",
    "Write a Python program to create a countdown timer.\n",
    "\n",
    "1.  Ask the user for a starting number.\n",
    "2.  Use a `while` loop to print numbers from that number down to 1.\n",
    "3.  When the countdown ends, print a celebratory message like \"Blast off!\"\n",
    "\n",
    "For example:\n",
    "\n",
    "`Enter the starting number: 5`\n",
    "\n",
    "`5 4 3 2 1 Blast off! 🚀`"
   ]
  },
  {
   "cell_type": "code",
   "execution_count": 5,
   "metadata": {},
   "outputs": [
    {
     "name": "stdout",
     "output_type": "stream",
     "text": [
      "5 4 3 2 1 Blastoff! 🚀\n"
     ]
    }
   ],
   "source": [
    "num_count = int(input(\"Input a starting number please!\"))\n",
    "\n",
    "while num_count >= 1:\n",
    "    print(str(num_count) + \" \", end = \"\")\n",
    "\n",
    "    num_count -= 1\n",
    "\n",
    "print(\"Blastoff! 🚀\")"
   ]
  },
  {
   "cell_type": "markdown",
   "metadata": {},
   "source": [
    "**Task 2 - Multiplication Table with `for` Loops**  \n",
    "Write a program that generates the multiplication table for any number provided by the user.\n",
    "\n",
    "1.  Ask the user to input a number.\n",
    "2.  Use a `for` loop to print the multiplication table for that number (from 1 to 10).\n",
    "\n",
    "Example Output:\n",
    "\n",
    "`Enter a number: 4`\n",
    "\n",
    "`4 x 1 = 4 4 x 2 = 8 ... 4 x 10 = 40`\n",
    "\n"
   ]
  },
  {
   "cell_type": "code",
   "execution_count": 10,
   "metadata": {},
   "outputs": [
    {
     "name": "stdout",
     "output_type": "stream",
     "text": [
      "20 x 1 = 20 20 x 2 = 40 20 x 3 = 60 20 x 4 = 80 20 x 5 = 100 20 x 6 = 120 20 x 7 = 140 20 x 8 = 160 20 x 9 = 180 20 x 10 = 200 "
     ]
    }
   ],
   "source": [
    "num_count2 = int(input(\"Please input a number please\"))\n",
    "\n",
    "for i in range(1, 10 + 1):\n",
    "    print(str(num_count2), \"x\", str(i), \"=\", str(num_count2 * i), end = \" \")"
   ]
  },
  {
   "cell_type": "markdown",
   "metadata": {},
   "source": [
    "**Task 3 - Find the Factorial**  \n",
    "Write a Python program to calculate the factorial of a number entered by the user.\n",
    "\n",
    "1.  Ask the user for a number.\n",
    "2.  Use a `for` loop to calculate the factorial.\n",
    "3.  Print the result in a friendly format.\n",
    "\n",
    "For example:\n",
    "\n",
    "`Enter a number: 5`\n",
    "\n",
    "`The factorial of 5 is 120.`"
   ]
  },
  {
   "cell_type": "code",
   "execution_count": 14,
   "metadata": {},
   "outputs": [
    {
     "name": "stdout",
     "output_type": "stream",
     "text": [
      "120\n"
     ]
    }
   ],
   "source": [
    "num_count3 = int(input(\"Please input a number please\"))\n",
    "\n",
    "# Calculating factorial with user input\n",
    "for i in range(1, num_count3):\n",
    "    num_count3 *= i # num_count3 already the highest number, \n",
    "                    # so we start from 1 and multiply it by the next number until we reach the number before the user input\n",
    "\n",
    "print(num_count3)"
   ]
  }
 ],
 "metadata": {
  "kernelspec": {
   "display_name": "Python 3",
   "language": "python",
   "name": "python3"
  },
  "language_info": {
   "codemirror_mode": {
    "name": "ipython",
    "version": 3
   },
   "file_extension": ".py",
   "mimetype": "text/x-python",
   "name": "python",
   "nbconvert_exporter": "python",
   "pygments_lexer": "ipython3",
   "version": "3.12.4"
  }
 },
 "nbformat": 4,
 "nbformat_minor": 2
}
