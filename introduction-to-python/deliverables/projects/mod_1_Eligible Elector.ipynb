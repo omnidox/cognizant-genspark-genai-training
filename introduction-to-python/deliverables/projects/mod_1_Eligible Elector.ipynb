{
 "cells": [
  {
   "cell_type": "markdown",
   "metadata": {},
   "source": [
    "# Eligible Elector\n",
    "\n",
    "**Hey Python Wizard! 🧙**  \n",
    "Let’s make something cool and useful! You’ll be writing a program to check voter eligibility. It’s simple, but the result is super satisfying. Here’s what you’ll build:\n",
    "\n",
    "* * *\n",
    "\n",
    "**Step 1: Ask the User’s Age**  \n",
    "Your program should start by asking the user:\n",
    "\n",
    "`age = int(input(\"How old are you? \"))`\n",
    "\n",
    "Make sure you convert the input into an integer so you can use it in calculations later.\n",
    "\n",
    "* * *\n",
    "\n",
    "**Step 2: Decide the Eligibility**  \n",
    "Use a conditional statement to check if the age is 18 or older. Here’s the logic:\n",
    "\n",
    "-   If the user’s age is 18 or above, display a warm message like:  \n",
    "    _\"Congratulations! You are eligible to vote. Go make a difference!\"_\n",
    "-   If the user’s age is less than 18, calculate how many years they have to wait. Display a friendly message like:  \n",
    "    _\"Oops! You’re not eligible yet. But hey, only X more years to go!\"_\n",
    "\n",
    "* * *\n",
    "\n",
    "**Step 3: Test with Different Ages**  \n",
    "Here’s an example of how your program should behave:\n",
    "\n",
    "**Example Run 1:**\n",
    "\n",
    "`How old are you? 16`\n",
    "\n",
    "`Oops! You’re not eligible yet. But hey, only 2 more years to go!`\n",
    "\n",
    "**Example Run 2:**\n",
    "\n",
    "`How old are you? 20`\n",
    "\n",
    "`Congratulations! You are eligible to vote. Go make a difference!`\n",
    "\n",
    "**Step 4: Polish It Up**  \n",
    "Make sure your program is friendly, clear, and fun! Add comments to explain what your code is doing and maybe throw in a fun line or emoji for extra flair.\n",
    "\n",
    "**Extra Credit:**  \n",
    "Want to stand out? Add some checks for invalid input (like negative ages or non-numeric entries). This is optional but will definitely impress!\n",
    "\n"
   ]
  },
  {
   "cell_type": "code",
   "execution_count": 6,
   "metadata": {},
   "outputs": [
    {
     "name": "stdout",
     "output_type": "stream",
     "text": [
      "Invalid input: invalid literal for int() with base 10: 'f'. Please enter a valid age.\n"
     ]
    }
   ],
   "source": [
    "try:\n",
    "        \n",
    "    age = int(input(\"How old are you? \"))\n",
    "\n",
    "\n",
    "    if age >= 18:\n",
    "        print(\"Congratulations! You are eligible to vote. Go make a difference!\")\n",
    "    elif age < 0:\n",
    "        raise ValueError(\"age cannot be negative\")\n",
    "    else:\n",
    "        print(f\"Oops! You’re not eligible to vote yet. But hey, only {18 - age} more years to go!\")\n",
    "        \n",
    "except ValueError as e:\n",
    "    print(f\"Invalid input: {e}. Please enter a valid age.\")\n"
   ]
  }
 ],
 "metadata": {
  "kernelspec": {
   "display_name": "Python 3",
   "language": "python",
   "name": "python3"
  },
  "language_info": {
   "codemirror_mode": {
    "name": "ipython",
    "version": 3
   },
   "file_extension": ".py",
   "mimetype": "text/x-python",
   "name": "python",
   "nbconvert_exporter": "python",
   "pygments_lexer": "ipython3",
   "version": "3.12.4"
  }
 },
 "nbformat": 4,
 "nbformat_minor": 2
}
