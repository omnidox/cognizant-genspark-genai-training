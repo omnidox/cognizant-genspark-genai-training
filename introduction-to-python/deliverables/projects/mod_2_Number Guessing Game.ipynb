{
 "cells": [
  {
   "cell_type": "markdown",
   "metadata": {},
   "source": [
    "# Project: Number Guessing Game\n",
    "\n",
    "**Let’s Make Loops Fun! 🎲**  \n",
    "For this project, you’ll create a simple yet addictive number-guessing game. Here’s how it works:\n",
    "\n",
    "* * *\n",
    "\n",
    "**Step 1: Generate a Random Number**  \n",
    "Use Python’s `random` module to generate a random number between 1 and 100.\n",
    "\n",
    "`import random`\n",
    "\n",
    "`number_to_guess = random.randint(1, 100)`\n",
    "\n",
    "* * *\n",
    "\n",
    "**Step 2: Prompt the User for Guesses**  \n",
    "Use a `while` loop to let the user keep guessing until they get the correct answer. After each guess:\n",
    "\n",
    "-   If the guess is too high, print: \"Too high! Try again.\"\n",
    "-   If the guess is too low, print: \"Too low! Try again.\"\n",
    "-   If the guess is correct, print: \"Congratulations! You guessed it!\"\n",
    "\n",
    "* * *\n",
    "\n",
    "**Step 3: Count the Attempts**  \n",
    "Keep track of how many guesses the user has made and display the total number of attempts when they win.\n",
    "\n",
    "* * *\n",
    "\n",
    "**Example Run:**\n",
    "\n",
    "`Guess the number (between 1 and 100): 50 Too high! Try again.`\n",
    "\n",
    "`Guess the number (between 1 and 100): 25 Too low! Try again.`\n",
    "\n",
    "`Guess the number (between 1 and 100): 37 Congratulations! You guessed it in 3 attempts!`\n",
    "\n",
    "* * *\n",
    "\n",
    "**Bonus Task:**\n",
    "\n",
    "-   Limit the number of attempts to 10. If the user fails to guess in 10 attempts, end the game with a message like \"Game over! Better luck next time!\"\n",
    "\n",
    "Make your program friendly, interactive, and fun to play! 😊\n",
    "\n"
   ]
  },
  {
   "cell_type": "code",
   "execution_count": 4,
   "metadata": {},
   "outputs": [],
   "source": [
    "import random\n",
    "number_to_guess = random.randint(1, 100)"
   ]
  },
  {
   "cell_type": "code",
   "execution_count": 5,
   "metadata": {},
   "outputs": [
    {
     "name": "stdout",
     "output_type": "stream",
     "text": [
      "50 is too high! Try again.\n",
      "Please enter a number\n",
      "25 is too low! Try again\n",
      "Please enter a number\n",
      "47 is too high! Try again.\n",
      "Please enter a number\n",
      "35 is too high! Try again.\n",
      "Please enter a number\n",
      "40 is too high! Try again.\n",
      "Congratulations! You guessed the number 30!\n"
     ]
    }
   ],
   "source": [
    "while True:\n",
    "    user_input = input(\"Guess the number (between 1 and 100): \")\n",
    "    if user_input == \"exit\":\n",
    "        print(\"Goodbye!\")\n",
    "        break\n",
    "    if not user_input.isdigit():\n",
    "        print(\"Please enter a number\")\n",
    "        continue\n",
    "    user_input = int(user_input)\n",
    "    if user_input == number_to_guess:\n",
    "        print(f\"Congratulations! You guessed the number {number_to_guess}!\")\n",
    "        break\n",
    "    elif user_input < number_to_guess:\n",
    "        print(f\"{user_input} is too low! Try again\")\n",
    "    else:\n",
    "        print(f\"{user_input} is too high! Try again.\")"
   ]
  }
 ],
 "metadata": {
  "kernelspec": {
   "display_name": "Python 3",
   "language": "python",
   "name": "python3"
  },
  "language_info": {
   "codemirror_mode": {
    "name": "ipython",
    "version": 3
   },
   "file_extension": ".py",
   "mimetype": "text/x-python",
   "name": "python",
   "nbconvert_exporter": "python",
   "pygments_lexer": "ipython3",
   "version": "3.12.4"
  }
 },
 "nbformat": 4,
 "nbformat_minor": 2
}
